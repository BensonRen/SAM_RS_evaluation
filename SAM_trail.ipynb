{
 "cells": [
  {
   "cell_type": "code",
   "execution_count": 1,
   "metadata": {},
   "outputs": [],
   "source": [
    "import numpy as np\n",
    "import pandas as pd\n",
    "import torch\n",
    "import cv2\n",
    "import matplotlib.pyplot as plt\n",
    "import os\n",
    "from tqdm import tqdm\n",
    "import pickle\n",
    "import random"
   ]
  },
  {
   "attachments": {},
   "cell_type": "markdown",
   "metadata": {},
   "source": [
    "## The SAM model trail (now in the other jupyter notebook file)"
   ]
  },
  {
   "cell_type": "code",
   "execution_count": 2,
   "metadata": {},
   "outputs": [],
   "source": [
    "# from segment_anything import build_sam, SamPredictor \n",
    "# predictor = SamPredictor(build_sam(checkpoint='./sam_vit_h_4b8939.pth'))"
   ]
  },
  {
   "cell_type": "code",
   "execution_count": 7,
   "metadata": {},
   "outputs": [],
   "source": [
    "def k_th_occurence(k, list_of_binary):\n",
    "    \"\"\"\n",
    "    Find the kth occurence of 1 of a binary list\n",
    "    \"\"\"\n",
    "    occurence = 0\n",
    "    for i in range(len(list_of_binary)):\n",
    "        if list_of_binary[i] == 1:\n",
    "            occurence += 1\n",
    "        if occurence == k:\n",
    "            return i\n",
    "    return 1/0  # Stop here, this is error if algo comes to this point\n",
    "\n",
    "def get_list_of_centers(folder, img_name, output_dict, num_count_dict):\n",
    "    # Read the image mask\n",
    "    mask = cv2.imread(os.path.join(folder, img_name))\n",
    "    # Find the connected component\n",
    "    output = cv2.connectedComponentsWithStats(\n",
    "\t        mask[:, :, 0], 4)\n",
    "    # Get them into structured outputs\n",
    "    (numLabels, labels, stats, centroids) = output\n",
    "    mask_binary = mask[:,:,0] > 122\n",
    "    \n",
    "    \n",
    "    mask_mul_labels = mask_binary * (labels + 1) # Label + 1 is to make sure they all start from 1\n",
    "    # Loop over the number of labels and check whether this is a background or foregroup\n",
    "    for i in range(numLabels):\n",
    "        num_pixel = np.sum(mask_mul_labels == (i+1))\n",
    "        # print(num_pixel)\n",
    "        # First identify background\n",
    "        if num_pixel == 0:\n",
    "            continue\n",
    "        # First lets make sure that the centroid position is inside the current class\n",
    "        # if labels[int(centroids[i, 0]), int(centroids[i, 1])] == i: # This means this is within current panel\n",
    "        if labels[int(centroids[i, 1]), int(centroids[i, 0])] == i: # This means this is within current panel\n",
    "            if img_name not in output_dict:\n",
    "                output_dict[img_name] = []\n",
    "            output_dict[img_name].append((int(centroids[i, 0]), int(centroids[i, 1])))\n",
    "            num_count_dict['center'] += 1\n",
    "        else: # We need to find the closest component within such component\n",
    "            # print('Here is an instance of center NOT inside panel!')\n",
    "            # print(img_name)\n",
    "            # get the coordinate arrays\n",
    "            l, w = np.shape(labels) # Get the size of the current image\n",
    "            l_index = np.broadcast_to(np.arange(l), (w, l)).T\n",
    "            w_index = np.broadcast_to(np.arange(w), (l, w))\n",
    "            l_index_flat = np.reshape(l_index, [-1, 1])\n",
    "            w_index_flat = np.reshape(w_index, [-1, 1])\n",
    "            \n",
    "            indicator_mask = mask_mul_labels == (i + 1)\n",
    "            list_of_component = np.reshape(indicator_mask, [-1, 1])\n",
    "            mid_point_index = k_th_occurence(num_pixel // 2, list_of_component)\n",
    "            if img_name not in output_dict:\n",
    "                output_dict[img_name] = []\n",
    "            output_dict[img_name].append((int(w_index_flat[mid_point_index]), int(l_index_flat[mid_point_index])))\n",
    "            assert indicator_mask[l_index_flat[mid_point_index], w_index_flat[mid_point_index]] == 1, 'in closest setting, x,y are possibly flipped'\n",
    "            num_count_dict['midpoint'] += 1\n",
    "            num_count_dict['set_of_non_concave_panel_imgs'].add(img_name)\n",
    "\n",
    "def get_list_of_random_inside_points(folder, img_name, output_dict):\n",
    "    # Read the image mask\n",
    "    mask = cv2.imread(os.path.join(folder, img_name))\n",
    "    # Find the connected component\n",
    "    output = cv2.connectedComponentsWithStats(\n",
    "\t        mask[:, :, 0], 4)\n",
    "    # Get them into structured outputs\n",
    "    (numLabels, labels, stats, centroids) = output\n",
    "    mask_binary = mask[:,:,0] > 122\n",
    "    mask_mul_labels = mask_binary * (labels + 1) # Label + 1 is to make sure they all start from 1\n",
    "\n",
    "    # get the coordinate arrays\n",
    "    l, w = np.shape(labels) # Get the size of the current image\n",
    "    l_index = np.broadcast_to(np.arange(l), (w, l)).T\n",
    "    w_index = np.broadcast_to(np.arange(w), (l, w))\n",
    "    l_index_flat = np.reshape(l_index, [-1, 1])\n",
    "    w_index_flat = np.reshape(w_index, [-1, 1])\n",
    "    \n",
    "    # Loop over the number of labels and check whether this is a background or foregroup\n",
    "    for i in range(numLabels):\n",
    "        num_pixel = np.sum(mask_mul_labels == (i+1))\n",
    "        # print(num_pixel)\n",
    "        # First identify background\n",
    "        if num_pixel == 0:\n",
    "            continue\n",
    "        # Directly choose an random point\n",
    "        indicator_mask = mask_mul_labels == (i + 1)\n",
    "        list_of_component = np.reshape(indicator_mask, [-1, 1])\n",
    "        random_index = random.randint(1, num_pixel)\n",
    "        mid_point_index = k_th_occurence(random_index, list_of_component)\n",
    "        if img_name not in output_dict:\n",
    "            output_dict[img_name] = []\n",
    "        output_dict[img_name].append((int(w_index_flat[mid_point_index]), int(l_index_flat[mid_point_index])))\n",
    "        assert indicator_mask[l_index_flat[mid_point_index], w_index_flat[mid_point_index]] == 1, 'in closest setting, x,y are possibly flipped'\n"
   ]
  },
  {
   "attachments": {},
   "cell_type": "markdown",
   "metadata": {},
   "source": [
    "## Solar PV task"
   ]
  },
  {
   "cell_type": "code",
   "execution_count": 7,
   "metadata": {},
   "outputs": [],
   "source": [
    "img = cv2.imread('solar-pv/11ska655800_20_10.tif')\n",
    "plt.imshow(img)"
   ]
  },
  {
   "cell_type": "code",
   "execution_count": 8,
   "metadata": {},
   "outputs": [
    {
     "name": "stderr",
     "output_type": "stream",
     "text": [
      "100%|██████████| 18302/18302 [24:40<00:00, 12.36it/s] \n"
     ]
    }
   ],
   "source": [
    "num_count_dict = {'center': 0, 'midpoint':0, 'set_of_non_concave_panel_imgs':set()}\n",
    "output_dict = {}\n",
    "\n",
    "\n",
    "# Run one test: Solar\n",
    "# get_list_of_centers(folder='solar_masks',img_name='11ska655800_20_10.tif', \n",
    "                    # output_dict=output_dict, num_count_dict=num_count_dict )\n",
    "\n",
    "# Run one test: Inria\n",
    "# get_list_of_centers(folder='inria/train/gt',img_name='austin10.tif', \n",
    "#                     output_dict=output_dict, num_count_dict=num_count_dict )\n",
    "\n",
    "\n",
    "# # Run all\n",
    "folder = 'solar_masks'\n",
    "# folder = 'inria/train/gt'\n",
    "# for file in os.listdir(folder):\n",
    "k, k_limit = 0, 9999999999\n",
    "for file in tqdm(os.listdir(folder)):\n",
    "    if '.tif' not in file:\n",
    "        print('{} is not a .tif file, ignore')\n",
    "        continue\n",
    "    # Get the center point\n",
    "    # get_list_of_centers(folder=folder,img_name=file, \n",
    "    #                 output_dict=output_dict, num_count_dict=num_count_dict)\n",
    "\n",
    "    # Get a random point\n",
    "    get_list_of_random_inside_points(folder=folder,img_name=file, \n",
    "                    output_dict=output_dict)\n",
    "    \n",
    "    k +=1 \n",
    "    if k > k_limit:\n",
    "        break"
   ]
  },
  {
   "cell_type": "code",
   "execution_count": 7,
   "metadata": {},
   "outputs": [],
   "source": [
    "\n",
    "mask = cv2.imread(os.path.join('inria/train/gt', 'austin10.tif'))"
   ]
  },
  {
   "cell_type": "code",
   "execution_count": 8,
   "metadata": {},
   "outputs": [
    {
     "data": {
      "text/plain": [
       "(5000, 5000, 3)"
      ]
     },
     "execution_count": 8,
     "metadata": {},
     "output_type": "execute_result"
    }
   ],
   "source": [
    "np.shape(mask)"
   ]
  },
  {
   "cell_type": "code",
   "execution_count": 11,
   "metadata": {},
   "outputs": [],
   "source": [
    "output = cv2.connectedComponentsWithStats(\n",
    "\t        mask[:, :, 0], 4)"
   ]
  },
  {
   "cell_type": "code",
   "execution_count": 14,
   "metadata": {},
   "outputs": [],
   "source": [
    "(numLabels, labels, stats, centroids) = output\n",
    "mask_binary = mask[:,:,0] > 122"
   ]
  },
  {
   "cell_type": "code",
   "execution_count": 15,
   "metadata": {},
   "outputs": [
    {
     "data": {
      "text/plain": [
       "926"
      ]
     },
     "execution_count": 15,
     "metadata": {},
     "output_type": "execute_result"
    }
   ],
   "source": [
    "numLabels"
   ]
  },
  {
   "cell_type": "code",
   "execution_count": 9,
   "metadata": {},
   "outputs": [],
   "source": [
    "####### RANDOM  point prompt #######\n",
    "# Save the dictionary results down\n",
    "with open('solar_pv_random_prompt_dict.pickle', 'wb') as handle:\n",
    "    pickle.dump(output_dict, handle, protocol=pickle.HIGHEST_PROTOCOL)"
   ]
  },
  {
   "cell_type": "code",
   "execution_count": 105,
   "metadata": {},
   "outputs": [],
   "source": [
    "####### CENTER point prompt #######\n",
    "# Save the dictionary results down\n",
    "with open('solar_pv_center_prompt_dict.pickle', 'wb') as handle:\n",
    "    pickle.dump(output_dict, handle, protocol=pickle.HIGHEST_PROTOCOL)\n",
    "with open('solar_pv_center_prompt_output_record_dict.pickle', 'wb') as handle:\n",
    "    pickle.dump(num_count_dict, handle, protocol=pickle.HIGHEST_PROTOCOL)"
   ]
  },
  {
   "cell_type": "code",
   "execution_count": 3,
   "metadata": {},
   "outputs": [],
   "source": [
    "with open('solar_pv_center_prompt_dict.pickle', 'rb') as handle:\n",
    "    b = pickle.load(handle)"
   ]
  },
  {
   "cell_type": "code",
   "execution_count": 4,
   "metadata": {},
   "outputs": [
    {
     "data": {
      "text/plain": [
       "[(139, 203)]"
      ]
     },
     "execution_count": 4,
     "metadata": {},
     "output_type": "execute_result"
    }
   ],
   "source": [
    "b['11ska625740_13_27.tif']"
   ]
  },
  {
   "cell_type": "code",
   "execution_count": 89,
   "metadata": {},
   "outputs": [],
   "source": [
    "img_name = '11ska625740_13_27.tif'\n",
    "# Read the image mask\n",
    "mask = cv2.imread(os.path.join(folder, img_name))\n",
    "# Find the connected component\n",
    "output = cv2.connectedComponentsWithStats(\n",
    "        mask[:, :, 0], 4)\n",
    "mask_binary = mask > 122\n",
    "# Get them into structured outputs\n",
    "(numLabels, labels, stats, centroids) = output"
   ]
  },
  {
   "cell_type": "code",
   "execution_count": 106,
   "metadata": {},
   "outputs": [
    {
     "data": {
      "text/plain": [
       "<matplotlib.image.AxesImage at 0x7ff6a808f410>"
      ]
     },
     "execution_count": 106,
     "metadata": {},
     "output_type": "execute_result"
    },
    {
     "data": {
      "image/png": "[encoded data removed]",
      "text/plain": [
       "<Figure size 432x288 with 1 Axes>"
      ]
     },
     "metadata": {
      "needs_background": "light"
     },
     "output_type": "display_data"
    }
   ],
   "source": [
    "plt.imshow(mask)"
   ]
  },
  {
   "cell_type": "code",
   "execution_count": 67,
   "metadata": {},
   "outputs": [
    {
     "data": {
      "text/plain": [
       "<matplotlib.image.AxesImage at 0x7ff6cc3d9750>"
      ]
     },
     "execution_count": 67,
     "metadata": {},
     "output_type": "execute_result"
    },
    {
     "data": {
      "image/png": "[encoded data removed]",
      "text/plain": [
       "<Figure size 432x288 with 1 Axes>"
      ]
     },
     "metadata": {
      "needs_background": "light"
     },
     "output_type": "display_data"
    }
   ],
   "source": [
    "plt.imshow(labels)"
   ]
  },
  {
   "cell_type": "code",
   "execution_count": 46,
   "metadata": {},
   "outputs": [
    {
     "name": "stdout",
     "output_type": "stream",
     "text": [
      "(224, 72)\n",
      "[[ 36.3851712  111.25465434]\n",
      " [ 46.5         84.88      ]\n",
      " [ 10.74675325 124.10064935]]\n"
     ]
    }
   ],
   "source": [
    "print(np.shape(mask[:, :, 0]))\n",
    "print(centroids)"
   ]
  },
  {
   "cell_type": "code",
   "execution_count": 45,
   "metadata": {},
   "outputs": [
    {
     "data": {
      "text/plain": [
       "<matplotlib.collections.PathCollection at 0x7ff6e87325d0>"
      ]
     },
     "execution_count": 45,
     "metadata": {},
     "output_type": "execute_result"
    },
    {
     "data": {
      "image/png": "[encoded data removed]",
      "text/plain": [
       "<Figure size 432x288 with 1 Axes>"
      ]
     },
     "metadata": {
      "needs_background": "light"
     },
     "output_type": "display_data"
    }
   ],
   "source": [
    "plt.imshow(mask)\n",
    "plt.scatter(centroids[:, 0], centroids[:, 1])"
   ]
  },
  {
   "attachments": {},
   "cell_type": "markdown",
   "metadata": {},
   "source": [
    "## Inria_DG dataset"
   ]
  },
  {
   "cell_type": "code",
   "execution_count": 3,
   "metadata": {},
   "outputs": [
    {
     "data": {
      "text/plain": [
       "<matplotlib.image.AxesImage at 0x7f97d538cf10>"
      ]
     },
     "execution_count": 3,
     "metadata": {},
     "output_type": "execute_result"
    },
    {
     "data": {
      "image/png": "[encoded data removed]",
      "text/plain": [
       "<Figure size 432x288 with 1 Axes>"
      ]
     },
     "metadata": {
      "needs_background": "light"
     },
     "output_type": "display_data"
    }
   ],
   "source": [
    "img = cv2.imread('Combined_Inria_DeepGlobe_650/patches/vienna17_y0x1994.png')\n",
    "plt.imshow(img)"
   ]
  },
  {
   "cell_type": "code",
   "execution_count": 4,
   "metadata": {},
   "outputs": [
    {
     "data": {
      "text/plain": [
       "445959"
      ]
     },
     "execution_count": 4,
     "metadata": {},
     "output_type": "execute_result"
    }
   ],
   "source": [
    "np.sum(img)"
   ]
  },
  {
   "cell_type": "code",
   "execution_count": 5,
   "metadata": {},
   "outputs": [
    {
     "data": {
      "text/plain": [
       "(512, 512, 3)"
      ]
     },
     "execution_count": 5,
     "metadata": {},
     "output_type": "execute_result"
    }
   ],
   "source": [
    "np.shape(img)"
   ]
  },
  {
   "cell_type": "code",
   "execution_count": 6,
   "metadata": {},
   "outputs": [
    {
     "data": {
      "text/plain": [
       "1.0"
      ]
     },
     "execution_count": 6,
     "metadata": {},
     "output_type": "execute_result"
    }
   ],
   "source": [
    "np.mean(img[:, :, 0] == img[:, :, 1])"
   ]
  },
  {
   "cell_type": "code",
   "execution_count": 7,
   "metadata": {},
   "outputs": [
    {
     "data": {
      "text/plain": [
       "0.5670661926269531"
      ]
     },
     "execution_count": 7,
     "metadata": {},
     "output_type": "execute_result"
    }
   ],
   "source": [
    "np.mean(img[:, :, 0])"
   ]
  },
  {
   "cell_type": "code",
   "execution_count": 8,
   "metadata": {},
   "outputs": [
    {
     "data": {
      "text/plain": [
       "1"
      ]
     },
     "execution_count": 8,
     "metadata": {},
     "output_type": "execute_result"
    }
   ],
   "source": [
    "np.max(img)"
   ]
  },
  {
   "cell_type": "code",
   "execution_count": 9,
   "metadata": {},
   "outputs": [
    {
     "data": {
      "text/plain": [
       "0"
      ]
     },
     "execution_count": 9,
     "metadata": {},
     "output_type": "execute_result"
    }
   ],
   "source": [
    "np.min(img)"
   ]
  },
  {
   "cell_type": "code",
   "execution_count": null,
   "metadata": {},
   "outputs": [],
   "source": []
  }
 ],
 "metadata": {
  "kernelspec": {
   "display_name": "benicml",
   "language": "python",
   "name": "python3"
  },
  "language_info": {
   "codemirror_mode": {
    "name": "ipython",
    "version": 3
   },
   "file_extension": ".py",
   "mimetype": "text/x-python",
   "name": "python",
   "nbconvert_exporter": "python",
   "pygments_lexer": "ipython3",
   "version": "3.7.12"
  },
  "orig_nbformat": 4
 },
 "nbformat": 4,
 "nbformat_minor": 2
}
