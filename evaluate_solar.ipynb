{
 "cells": [
  {
   "cell_type": "code",
   "execution_count": 1,
   "metadata": {},
   "outputs": [],
   "source": [
    "import numpy as np\n",
    "import pandas as pd\n",
    "import torch\n",
    "import cv2\n",
    "import matplotlib.pyplot as plt\n",
    "import os\n",
    "from tqdm import tqdm\n",
    "import pickle\n",
    "from show_img import *"
   ]
  },
  {
   "cell_type": "code",
   "execution_count": 2,
   "metadata": {},
   "outputs": [],
   "source": [
    "# mode = 'center'\n",
    "mode = 'random'\n",
    "results = pd.read_csv('solar_pv_{}_IOU.csv'.format(mode), index_col=0)"
   ]
  },
  {
   "cell_type": "code",
   "execution_count": 3,
   "metadata": {},
   "outputs": [
    {
     "data": {
      "text/html": [
       "<div>\n",
       "<style scoped>\n",
       "    .dataframe tbody tr th:only-of-type {\n",
       "        vertical-align: middle;\n",
       "    }\n",
       "\n",
       "    .dataframe tbody tr th {\n",
       "        vertical-align: top;\n",
       "    }\n",
       "\n",
       "    .dataframe thead th {\n",
       "        text-align: right;\n",
       "    }\n",
       "</style>\n",
       "<table border=\"1\" class=\"dataframe\">\n",
       "  <thead>\n",
       "    <tr style=\"text-align: right;\">\n",
       "      <th></th>\n",
       "      <th>img_name</th>\n",
       "      <th>prompt_ind</th>\n",
       "      <th>SAM_conf_0</th>\n",
       "      <th>SAM_conf_1</th>\n",
       "      <th>SAM_conf_2</th>\n",
       "      <th>IoU_0</th>\n",
       "      <th>IoU_1</th>\n",
       "      <th>IoU_2</th>\n",
       "      <th>cur_object_size</th>\n",
       "    </tr>\n",
       "  </thead>\n",
       "  <tbody>\n",
       "    <tr>\n",
       "      <th>0</th>\n",
       "      <td>11ska625740_13_27.tif</td>\n",
       "      <td>0</td>\n",
       "      <td>0.957196</td>\n",
       "      <td>0.943334</td>\n",
       "      <td>0.813330</td>\n",
       "      <td>0.311005</td>\n",
       "      <td>0.592417</td>\n",
       "      <td>0.057815</td>\n",
       "      <td>209</td>\n",
       "    </tr>\n",
       "    <tr>\n",
       "      <th>1</th>\n",
       "      <td>11ska565665_04_15.tif</td>\n",
       "      <td>0</td>\n",
       "      <td>0.958747</td>\n",
       "      <td>0.892545</td>\n",
       "      <td>0.724876</td>\n",
       "      <td>0.079807</td>\n",
       "      <td>0.733092</td>\n",
       "      <td>0.396040</td>\n",
       "      <td>827</td>\n",
       "    </tr>\n",
       "    <tr>\n",
       "      <th>2</th>\n",
       "      <td>11ska535845_25_23.tif</td>\n",
       "      <td>0</td>\n",
       "      <td>0.904533</td>\n",
       "      <td>0.895037</td>\n",
       "      <td>0.691359</td>\n",
       "      <td>0.036609</td>\n",
       "      <td>0.022864</td>\n",
       "      <td>0.005718</td>\n",
       "      <td>19</td>\n",
       "    </tr>\n",
       "    <tr>\n",
       "      <th>3</th>\n",
       "      <td>11ska535845_25_23.tif</td>\n",
       "      <td>1</td>\n",
       "      <td>0.741923</td>\n",
       "      <td>0.993043</td>\n",
       "      <td>0.889078</td>\n",
       "      <td>0.476190</td>\n",
       "      <td>0.904762</td>\n",
       "      <td>0.107554</td>\n",
       "      <td>84</td>\n",
       "    </tr>\n",
       "    <tr>\n",
       "      <th>4</th>\n",
       "      <td>11ska520830_25_08.tif</td>\n",
       "      <td>0</td>\n",
       "      <td>0.882550</td>\n",
       "      <td>0.818080</td>\n",
       "      <td>0.847526</td>\n",
       "      <td>0.284047</td>\n",
       "      <td>0.599237</td>\n",
       "      <td>0.108668</td>\n",
       "      <td>257</td>\n",
       "    </tr>\n",
       "    <tr>\n",
       "      <th>...</th>\n",
       "      <td>...</td>\n",
       "      <td>...</td>\n",
       "      <td>...</td>\n",
       "      <td>...</td>\n",
       "      <td>...</td>\n",
       "      <td>...</td>\n",
       "      <td>...</td>\n",
       "      <td>...</td>\n",
       "      <td>...</td>\n",
       "    </tr>\n",
       "    <tr>\n",
       "      <th>35300</th>\n",
       "      <td>11ska475755_11_12.tif</td>\n",
       "      <td>1</td>\n",
       "      <td>0.971663</td>\n",
       "      <td>0.909390</td>\n",
       "      <td>0.742516</td>\n",
       "      <td>0.715909</td>\n",
       "      <td>0.239865</td>\n",
       "      <td>0.050610</td>\n",
       "      <td>84</td>\n",
       "    </tr>\n",
       "    <tr>\n",
       "      <th>35301</th>\n",
       "      <td>11ska625755_23_13.tif</td>\n",
       "      <td>0</td>\n",
       "      <td>0.969107</td>\n",
       "      <td>0.919032</td>\n",
       "      <td>0.702183</td>\n",
       "      <td>0.782486</td>\n",
       "      <td>0.209220</td>\n",
       "      <td>0.074245</td>\n",
       "      <td>354</td>\n",
       "    </tr>\n",
       "    <tr>\n",
       "      <th>35302</th>\n",
       "      <td>11ska460800_19_08.tif</td>\n",
       "      <td>0</td>\n",
       "      <td>0.860137</td>\n",
       "      <td>0.849307</td>\n",
       "      <td>0.662956</td>\n",
       "      <td>0.160180</td>\n",
       "      <td>0.798825</td>\n",
       "      <td>0.188594</td>\n",
       "      <td>668</td>\n",
       "    </tr>\n",
       "    <tr>\n",
       "      <th>35303</th>\n",
       "      <td>11ska475800_31_31.tif</td>\n",
       "      <td>0</td>\n",
       "      <td>0.925697</td>\n",
       "      <td>0.950522</td>\n",
       "      <td>0.661367</td>\n",
       "      <td>0.765591</td>\n",
       "      <td>0.109105</td>\n",
       "      <td>0.036952</td>\n",
       "      <td>435</td>\n",
       "    </tr>\n",
       "    <tr>\n",
       "      <th>35304</th>\n",
       "      <td>11ska475800_31_31.tif</td>\n",
       "      <td>1</td>\n",
       "      <td>0.977988</td>\n",
       "      <td>0.971654</td>\n",
       "      <td>0.793889</td>\n",
       "      <td>0.795455</td>\n",
       "      <td>0.795455</td>\n",
       "      <td>0.018259</td>\n",
       "      <td>88</td>\n",
       "    </tr>\n",
       "  </tbody>\n",
       "</table>\n",
       "<p>35305 rows × 9 columns</p>\n",
       "</div>"
      ],
      "text/plain": [
       "                    img_name  prompt_ind  SAM_conf_0  SAM_conf_1  SAM_conf_2  \\\n",
       "0      11ska625740_13_27.tif           0    0.957196    0.943334    0.813330   \n",
       "1      11ska565665_04_15.tif           0    0.958747    0.892545    0.724876   \n",
       "2      11ska535845_25_23.tif           0    0.904533    0.895037    0.691359   \n",
       "3      11ska535845_25_23.tif           1    0.741923    0.993043    0.889078   \n",
       "4      11ska520830_25_08.tif           0    0.882550    0.818080    0.847526   \n",
       "...                      ...         ...         ...         ...         ...   \n",
       "35300  11ska475755_11_12.tif           1    0.971663    0.909390    0.742516   \n",
       "35301  11ska625755_23_13.tif           0    0.969107    0.919032    0.702183   \n",
       "35302  11ska460800_19_08.tif           0    0.860137    0.849307    0.662956   \n",
       "35303  11ska475800_31_31.tif           0    0.925697    0.950522    0.661367   \n",
       "35304  11ska475800_31_31.tif           1    0.977988    0.971654    0.793889   \n",
       "\n",
       "          IoU_0     IoU_1     IoU_2  cur_object_size  \n",
       "0      0.311005  0.592417  0.057815              209  \n",
       "1      0.079807  0.733092  0.396040              827  \n",
       "2      0.036609  0.022864  0.005718               19  \n",
       "3      0.476190  0.904762  0.107554               84  \n",
       "4      0.284047  0.599237  0.108668              257  \n",
       "...         ...       ...       ...              ...  \n",
       "35300  0.715909  0.239865  0.050610               84  \n",
       "35301  0.782486  0.209220  0.074245              354  \n",
       "35302  0.160180  0.798825  0.188594              668  \n",
       "35303  0.765591  0.109105  0.036952              435  \n",
       "35304  0.795455  0.795455  0.018259               88  \n",
       "\n",
       "[35305 rows x 9 columns]"
      ]
     },
     "execution_count": 3,
     "metadata": {},
     "output_type": "execute_result"
    }
   ],
   "source": [
    "results"
   ]
  },
  {
   "cell_type": "code",
   "execution_count": 4,
   "metadata": {},
   "outputs": [
    {
     "data": {
      "text/plain": [
       "Text(0.5, 1.0, 'solar panel size (px)')"
      ]
     },
     "execution_count": 4,
     "metadata": {},
     "output_type": "execute_result"
    },
    {
     "data": {
      "image/png": "[encoded data removed]",
      "text/plain": [
       "<Figure size 432x288 with 1 Axes>"
      ]
     },
     "metadata": {
      "needs_background": "light"
     },
     "output_type": "display_data"
    }
   ],
   "source": [
    "f = plt.figure()\n",
    "plt.hist(results['cur_object_size'], bins=50)\n",
    "plt.title('solar panel size (px)')"
   ]
  },
  {
   "attachments": {},
   "cell_type": "markdown",
   "metadata": {},
   "source": [
    "## Get the maximum confidence mask IoU"
   ]
  },
  {
   "cell_type": "code",
   "execution_count": 5,
   "metadata": {},
   "outputs": [
    {
     "name": "stdout",
     "output_type": "stream",
     "text": [
      "(35305,)\n"
     ]
    }
   ],
   "source": [
    "confidence_mat = results[['SAM_conf_0','SAM_conf_1','SAM_conf_2']].values\n",
    "IoU_mat = results[['IoU_0','IoU_1','IoU_2']].values\n",
    "arg_max_list = np.argmax(confidence_mat, axis=1)\n",
    "print(np.shape(arg_max_list))"
   ]
  },
  {
   "cell_type": "code",
   "execution_count": 6,
   "metadata": {},
   "outputs": [],
   "source": [
    "max_conf_IoU_list = np.zeros(len(IoU_mat))\n",
    "for i in range(len(max_conf_IoU_list)):\n",
    "    max_conf_IoU_list[i] = IoU_mat[i, arg_max_list[i]]\n",
    "max_IoU_list = np.max(IoU_mat, axis=1)"
   ]
  },
  {
   "cell_type": "code",
   "execution_count": 7,
   "metadata": {},
   "outputs": [
    {
     "name": "stdout",
     "output_type": "stream",
     "text": [
      "max confidence average IoU is:  0.5915971600839824\n",
      "average max IoU is:  0.7022247694477125\n"
     ]
    }
   ],
   "source": [
    "print('max confidence average IoU is: ', np.mean(max_conf_IoU_list))\n",
    "print('average max IoU is: ', np.mean(max_IoU_list))"
   ]
  },
  {
   "cell_type": "code",
   "execution_count": 9,
   "metadata": {},
   "outputs": [
    {
     "data": {
      "text/plain": [
       "<matplotlib.legend.Legend at 0x7fd1f47202d0>"
      ]
     },
     "execution_count": 9,
     "metadata": {},
     "output_type": "execute_result"
    },
    {
     "data": {
      "image/png": "[encoded data removed]",
      "text/plain": [
       "<Figure size 432x288 with 1 Axes>"
      ]
     },
     "metadata": {
      "needs_background": "light"
     },
     "output_type": "display_data"
    }
   ],
   "source": [
    "f = plt.figure()\n",
    "plt.hist(max_conf_IoU_list, label='max_conf_mean_IOU_{:.2f}'.format(np.mean(max_conf_IoU_list)), \n",
    "        bins=80, alpha=0.2)\n",
    "plt.hist(max_IoU_list, label='best_one_mean_IOU_{:.2f}'.format(np.mean(max_IoU_list)), \n",
    "        bins=80, alpha=0.2)\n",
    "plt.title('solar-pv SAM {} prompted IoU histogram'.format(mode))\n",
    "plt.legend()"
   ]
  },
  {
   "cell_type": "code",
   "execution_count": 17,
   "metadata": {},
   "outputs": [
    {
     "data": {
      "text/plain": [
       "(35305, 35305)"
      ]
     },
     "execution_count": 17,
     "metadata": {},
     "output_type": "execute_result"
    }
   ],
   "source": [
    "np.shape(max_IoU)"
   ]
  },
  {
   "cell_type": "code",
   "execution_count": null,
   "metadata": {},
   "outputs": [],
   "source": []
  }
 ],
 "metadata": {
  "kernelspec": {
   "display_name": "benicml",
   "language": "python",
   "name": "python3"
  },
  "language_info": {
   "codemirror_mode": {
    "name": "ipython",
    "version": 3
   },
   "file_extension": ".py",
   "mimetype": "text/x-python",
   "name": "python",
   "nbconvert_exporter": "python",
   "pygments_lexer": "ipython3",
   "version": "3.7.12"
  },
  "orig_nbformat": 4
 },
 "nbformat": 4,
 "nbformat_minor": 2
}
