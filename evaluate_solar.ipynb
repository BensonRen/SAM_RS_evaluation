{
 "cells": [
  {
   "cell_type": "code",
   "execution_count": 1,
   "metadata": {},
   "outputs": [],
   "source": [
    "import numpy as np\n",
    "import pandas as pd\n",
    "import torch\n",
    "import cv2\n",
    "import matplotlib.pyplot as plt\n",
    "import os\n",
    "from tqdm import tqdm\n",
    "import pickle\n",
    "from show_img import *"
   ]
  },
  {
   "cell_type": "code",
   "execution_count": 11,
   "metadata": {},
   "outputs": [],
   "source": [
    "mode = 'center'\n",
    "# mode = 'random'\n",
    "\n",
    "dataset = 'solar_pv'\n",
    "# dataset = 'inria_DG'\n",
    "\n",
    "results = pd.read_csv('{}_{}_IOU.csv'.format(dataset, mode), index_col=0)"
   ]
  },
  {
   "cell_type": "code",
   "execution_count": 12,
   "metadata": {},
   "outputs": [
    {
     "data": {
      "text/html": [
       "<div>\n",
       "<style scoped>\n",
       "    .dataframe tbody tr th:only-of-type {\n",
       "        vertical-align: middle;\n",
       "    }\n",
       "\n",
       "    .dataframe tbody tr th {\n",
       "        vertical-align: top;\n",
       "    }\n",
       "\n",
       "    .dataframe thead th {\n",
       "        text-align: right;\n",
       "    }\n",
       "</style>\n",
       "<table border=\"1\" class=\"dataframe\">\n",
       "  <thead>\n",
       "    <tr style=\"text-align: right;\">\n",
       "      <th></th>\n",
       "      <th>img_name</th>\n",
       "      <th>prompt_ind</th>\n",
       "      <th>SAM_conf_0</th>\n",
       "      <th>SAM_conf_1</th>\n",
       "      <th>SAM_conf_2</th>\n",
       "      <th>IoU_0</th>\n",
       "      <th>IoU_1</th>\n",
       "      <th>IoU_2</th>\n",
       "      <th>cur_object_size</th>\n",
       "    </tr>\n",
       "  </thead>\n",
       "  <tbody>\n",
       "    <tr>\n",
       "      <th>0</th>\n",
       "      <td>11ska625740_13_27.tif</td>\n",
       "      <td>0</td>\n",
       "      <td>0.618864</td>\n",
       "      <td>0.988071</td>\n",
       "      <td>0.831618</td>\n",
       "      <td>0.333333</td>\n",
       "      <td>0.057815</td>\n",
       "      <td>0.033012</td>\n",
       "      <td>209</td>\n",
       "    </tr>\n",
       "    <tr>\n",
       "      <th>1</th>\n",
       "      <td>11ska565665_04_15.tif</td>\n",
       "      <td>0</td>\n",
       "      <td>0.949611</td>\n",
       "      <td>0.891012</td>\n",
       "      <td>0.728942</td>\n",
       "      <td>0.043531</td>\n",
       "      <td>0.568319</td>\n",
       "      <td>0.375651</td>\n",
       "      <td>827</td>\n",
       "    </tr>\n",
       "    <tr>\n",
       "      <th>2</th>\n",
       "      <td>11ska535845_25_23.tif</td>\n",
       "      <td>0</td>\n",
       "      <td>0.912152</td>\n",
       "      <td>0.897931</td>\n",
       "      <td>0.706974</td>\n",
       "      <td>0.036609</td>\n",
       "      <td>0.022837</td>\n",
       "      <td>0.006201</td>\n",
       "      <td>19</td>\n",
       "    </tr>\n",
       "    <tr>\n",
       "      <th>3</th>\n",
       "      <td>11ska535845_25_23.tif</td>\n",
       "      <td>1</td>\n",
       "      <td>0.750357</td>\n",
       "      <td>0.993421</td>\n",
       "      <td>0.873095</td>\n",
       "      <td>0.476190</td>\n",
       "      <td>0.892857</td>\n",
       "      <td>0.109091</td>\n",
       "      <td>84</td>\n",
       "    </tr>\n",
       "    <tr>\n",
       "      <th>4</th>\n",
       "      <td>11ska520830_25_08.tif</td>\n",
       "      <td>0</td>\n",
       "      <td>0.913845</td>\n",
       "      <td>0.834014</td>\n",
       "      <td>0.799500</td>\n",
       "      <td>0.254826</td>\n",
       "      <td>0.564885</td>\n",
       "      <td>0.105892</td>\n",
       "      <td>257</td>\n",
       "    </tr>\n",
       "    <tr>\n",
       "      <th>...</th>\n",
       "      <td>...</td>\n",
       "      <td>...</td>\n",
       "      <td>...</td>\n",
       "      <td>...</td>\n",
       "      <td>...</td>\n",
       "      <td>...</td>\n",
       "      <td>...</td>\n",
       "      <td>...</td>\n",
       "      <td>...</td>\n",
       "    </tr>\n",
       "    <tr>\n",
       "      <th>35300</th>\n",
       "      <td>11ska475755_11_12.tif</td>\n",
       "      <td>1</td>\n",
       "      <td>0.973577</td>\n",
       "      <td>0.903352</td>\n",
       "      <td>0.763354</td>\n",
       "      <td>0.715909</td>\n",
       "      <td>0.239865</td>\n",
       "      <td>0.051298</td>\n",
       "      <td>84</td>\n",
       "    </tr>\n",
       "    <tr>\n",
       "      <th>35301</th>\n",
       "      <td>11ska625755_23_13.tif</td>\n",
       "      <td>0</td>\n",
       "      <td>0.968636</td>\n",
       "      <td>0.917808</td>\n",
       "      <td>0.706696</td>\n",
       "      <td>0.782486</td>\n",
       "      <td>0.216381</td>\n",
       "      <td>0.067390</td>\n",
       "      <td>354</td>\n",
       "    </tr>\n",
       "    <tr>\n",
       "      <th>35302</th>\n",
       "      <td>11ska460800_19_08.tif</td>\n",
       "      <td>0</td>\n",
       "      <td>0.824670</td>\n",
       "      <td>0.928298</td>\n",
       "      <td>0.804066</td>\n",
       "      <td>0.631737</td>\n",
       "      <td>0.803949</td>\n",
       "      <td>0.183617</td>\n",
       "      <td>668</td>\n",
       "    </tr>\n",
       "    <tr>\n",
       "      <th>35303</th>\n",
       "      <td>11ska475800_31_31.tif</td>\n",
       "      <td>0</td>\n",
       "      <td>0.931111</td>\n",
       "      <td>0.947422</td>\n",
       "      <td>0.665785</td>\n",
       "      <td>0.767241</td>\n",
       "      <td>0.108941</td>\n",
       "      <td>0.031889</td>\n",
       "      <td>435</td>\n",
       "    </tr>\n",
       "    <tr>\n",
       "      <th>35304</th>\n",
       "      <td>11ska475800_31_31.tif</td>\n",
       "      <td>1</td>\n",
       "      <td>0.972673</td>\n",
       "      <td>0.955276</td>\n",
       "      <td>0.785655</td>\n",
       "      <td>0.795455</td>\n",
       "      <td>0.795455</td>\n",
       "      <td>0.018012</td>\n",
       "      <td>88</td>\n",
       "    </tr>\n",
       "  </tbody>\n",
       "</table>\n",
       "<p>35305 rows × 9 columns</p>\n",
       "</div>"
      ],
      "text/plain": [
       "                    img_name  prompt_ind  SAM_conf_0  SAM_conf_1  SAM_conf_2  \\\n",
       "0      11ska625740_13_27.tif           0    0.618864    0.988071    0.831618   \n",
       "1      11ska565665_04_15.tif           0    0.949611    0.891012    0.728942   \n",
       "2      11ska535845_25_23.tif           0    0.912152    0.897931    0.706974   \n",
       "3      11ska535845_25_23.tif           1    0.750357    0.993421    0.873095   \n",
       "4      11ska520830_25_08.tif           0    0.913845    0.834014    0.799500   \n",
       "...                      ...         ...         ...         ...         ...   \n",
       "35300  11ska475755_11_12.tif           1    0.973577    0.903352    0.763354   \n",
       "35301  11ska625755_23_13.tif           0    0.968636    0.917808    0.706696   \n",
       "35302  11ska460800_19_08.tif           0    0.824670    0.928298    0.804066   \n",
       "35303  11ska475800_31_31.tif           0    0.931111    0.947422    0.665785   \n",
       "35304  11ska475800_31_31.tif           1    0.972673    0.955276    0.785655   \n",
       "\n",
       "          IoU_0     IoU_1     IoU_2  cur_object_size  \n",
       "0      0.333333  0.057815  0.033012              209  \n",
       "1      0.043531  0.568319  0.375651              827  \n",
       "2      0.036609  0.022837  0.006201               19  \n",
       "3      0.476190  0.892857  0.109091               84  \n",
       "4      0.254826  0.564885  0.105892              257  \n",
       "...         ...       ...       ...              ...  \n",
       "35300  0.715909  0.239865  0.051298               84  \n",
       "35301  0.782486  0.216381  0.067390              354  \n",
       "35302  0.631737  0.803949  0.183617              668  \n",
       "35303  0.767241  0.108941  0.031889              435  \n",
       "35304  0.795455  0.795455  0.018012               88  \n",
       "\n",
       "[35305 rows x 9 columns]"
      ]
     },
     "execution_count": 12,
     "metadata": {},
     "output_type": "execute_result"
    }
   ],
   "source": [
    "results"
   ]
  },
  {
   "cell_type": "code",
   "execution_count": 13,
   "metadata": {},
   "outputs": [
    {
     "data": {
      "text/plain": [
       "Text(0.5, 1.0, 'object size (px)')"
      ]
     },
     "execution_count": 13,
     "metadata": {},
     "output_type": "execute_result"
    },
    {
     "data": {
      "image/png": "[encoded data removed]",
      "text/plain": [
       "<Figure size 432x288 with 1 Axes>"
      ]
     },
     "metadata": {
      "needs_background": "light"
     },
     "output_type": "display_data"
    }
   ],
   "source": [
    "f = plt.figure()\n",
    "plt.hist(results['cur_object_size'], bins=50)\n",
    "plt.title('object size (px)')"
   ]
  },
  {
   "attachments": {},
   "cell_type": "markdown",
   "metadata": {},
   "source": [
    "## Get the maximum confidence mask IoU"
   ]
  },
  {
   "cell_type": "code",
   "execution_count": 14,
   "metadata": {},
   "outputs": [
    {
     "name": "stdout",
     "output_type": "stream",
     "text": [
      "(35305,)\n"
     ]
    }
   ],
   "source": [
    "confidence_mat = results[['SAM_conf_0','SAM_conf_1','SAM_conf_2']].values\n",
    "IoU_mat = results[['IoU_0','IoU_1','IoU_2']].values\n",
    "arg_max_list = np.argmax(confidence_mat, axis=1)\n",
    "print(np.shape(arg_max_list))"
   ]
  },
  {
   "cell_type": "code",
   "execution_count": 15,
   "metadata": {},
   "outputs": [],
   "source": [
    "max_conf_IoU_list = np.zeros(len(IoU_mat))\n",
    "for i in range(len(max_conf_IoU_list)):\n",
    "    max_conf_IoU_list[i] = IoU_mat[i, arg_max_list[i]]\n",
    "max_IoU_list = np.max(IoU_mat, axis=1)"
   ]
  },
  {
   "cell_type": "code",
   "execution_count": 16,
   "metadata": {},
   "outputs": [
    {
     "name": "stdout",
     "output_type": "stream",
     "text": [
      "max confidence average IoU is:  0.636166968385304\n",
      "average max IoU is:  0.7261667303352886\n"
     ]
    }
   ],
   "source": [
    "print('max confidence average IoU is: ', np.mean(max_conf_IoU_list))\n",
    "print('average max IoU is: ', np.mean(max_IoU_list))"
   ]
  },
  {
   "cell_type": "code",
   "execution_count": 17,
   "metadata": {},
   "outputs": [
    {
     "data": {
      "text/plain": [
       "<matplotlib.legend.Legend at 0x7f51d227cfd0>"
      ]
     },
     "execution_count": 17,
     "metadata": {},
     "output_type": "execute_result"
    },
    {
     "data": {
      "image/png": "[encoded data removed]",
      "text/plain": [
       "<Figure size 432x288 with 1 Axes>"
      ]
     },
     "metadata": {
      "needs_background": "light"
     },
     "output_type": "display_data"
    }
   ],
   "source": [
    "f = plt.figure()\n",
    "plt.hist(max_conf_IoU_list, label='max_conf_mean_IOU_{:.2f}'.format(np.mean(max_conf_IoU_list)), \n",
    "        bins=80, alpha=0.2)\n",
    "plt.hist(max_IoU_list, label='best_one_mean_IOU_{:.2f}'.format(np.mean(max_IoU_list)), \n",
    "        bins=80, alpha=0.2)\n",
    "plt.title('{} SAM {} prompted IoU histogram'.format(dataset, mode))\n",
    "plt.legend()"
   ]
  },
  {
   "cell_type": "code",
   "execution_count": null,
   "metadata": {},
   "outputs": [],
   "source": []
  }
 ],
 "metadata": {
  "kernelspec": {
   "display_name": "benicml",
   "language": "python",
   "name": "python3"
  },
  "language_info": {
   "codemirror_mode": {
    "name": "ipython",
    "version": 3
   },
   "file_extension": ".py",
   "mimetype": "text/x-python",
   "name": "python",
   "nbconvert_exporter": "python",
   "pygments_lexer": "ipython3",
   "version": "3.7.12"
  },
  "orig_nbformat": 4
 },
 "nbformat": 4,
 "nbformat_minor": 2
}
